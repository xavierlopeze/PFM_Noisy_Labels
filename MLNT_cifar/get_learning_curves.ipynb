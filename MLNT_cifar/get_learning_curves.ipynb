{
 "cells": [
  {
   "cell_type": "markdown",
   "metadata": {
    "colab": {
     "base_uri": "https://localhost:8080/",
     "height": 120
    },
    "colab_type": "code",
    "executionInfo": {
     "elapsed": 24402,
     "status": "ok",
     "timestamp": 1587644915241,
     "user": {
      "displayName": "Xavier López",
      "photoUrl": "",
      "userId": "17793741074420892205"
     },
     "user_tz": -120
    },
    "id": "csakjx4mdrs5",
    "outputId": "ea945bbb-eaa8-47a4-8e39-6fd200cf56f5"
   },
   "source": [
    "# Get Learning Cruves\n",
    "\n",
    "The goal of this jupyter notebook is to get the learning curves accuracies in tran, validation an test for the baseline model and MLNT-teacher and MLNT-student neural networks for each epoch.\n",
    "\n",
    "It is intended to be used in google colab.\n",
    "A folder named *learning_curves* needs to be created in order to store the results.\n",
    "It retrieves data from the checkpoint folder"
   ]
  },
  {
   "cell_type": "code",
   "execution_count": null,
   "metadata": {},
   "outputs": [],
   "source": [
    "from google.colab import drive\n",
    "drive.mount('/content/drive/')"
   ]
  },
  {
   "cell_type": "code",
   "execution_count": 2,
   "metadata": {
    "colab": {
     "base_uri": "https://localhost:8080/",
     "height": 67
    },
    "colab_type": "code",
    "executionInfo": {
     "elapsed": 16861,
     "status": "ok",
     "timestamp": 1587644936698,
     "user": {
      "displayName": "Xavier López",
      "photoUrl": "",
      "userId": "17793741074420892205"
     },
     "user_tz": -120
    },
    "id": "Xq88YZuGhRTA",
    "outputId": "69e0eeb1-7ee0-4ab9-e832-b6e325e56bca"
   },
   "outputs": [
    {
     "name": "stdout",
     "output_type": "stream",
     "text": [
      "\n",
      "noise file noisy_label_kv.txt generated with noise: 0.5\n",
      "\n"
     ]
    }
   ],
   "source": [
    "import sys\n",
    "sys.path.append('/content/drive/My Drive/Colab_Notebooks/pfm/')\n",
    "\n",
    "# Pytorch libraries\n",
    "import torch\n",
    "import torch.nn.functional as F\n",
    "import torch.backends.cudnn as cudnn\n",
    "\n",
    "# Internal files\n",
    "import config\n",
    "import dataloader\n",
    "import models\n",
    "from baseline import get_model, save_checkpoint\n",
    "\n",
    "import math\n",
    "import os\n",
    "import sys\n",
    "import time\n",
    "from collections import OrderedDict\n",
    "import random\n",
    "\n",
    "import pandas as pd"
   ]
  },
  {
   "cell_type": "code",
   "execution_count": 3,
   "metadata": {
    "colab": {
     "base_uri": "https://localhost:8080/",
     "height": 186,
     "referenced_widgets": [
      "7e05060de40642308ee64995731305d1",
      "032afcf64ba74ecf8409b7fae7671ae2",
      "5b88c7acd8ac446486f115f5d9327fd2",
      "924ecda6aa0940309929f412f95385ce",
      "341966de44544d37b561080274fdf326",
      "4c1ae15195894b6e9be780e8082f414c",
      "24c3af5ca64c4cabb8222f55e433e89e",
      "910b4ec7f5cc47caa5d45988098440d5"
     ]
    },
    "colab_type": "code",
    "executionInfo": {
     "elapsed": 13631,
     "status": "ok",
     "timestamp": 1587645516446,
     "user": {
      "displayName": "Xavier López",
      "photoUrl": "",
      "userId": "17793741074420892205"
     },
     "user_tz": -120
    },
    "id": "9mjWKzpX9L_W",
    "outputId": "4982056b-7ef5-47ae-fe62-c39b04dda328"
   },
   "outputs": [
    {
     "name": "stderr",
     "output_type": "stream",
     "text": [
      "/usr/local/lib/python3.6/dist-packages/torchvision/transforms/transforms.py:704: UserWarning: The use of the transforms.RandomSizedCrop transform is deprecated, please use transforms.RandomResizedCrop instead.\n",
      "  \"please use transforms.RandomResizedCrop instead.\")\n"
     ]
    },
    {
     "name": "stdout",
     "output_type": "stream",
     "text": [
      "\n",
      "Model setup\n",
      "| Building network: resnet50\n"
     ]
    },
    {
     "name": "stderr",
     "output_type": "stream",
     "text": [
      "Downloading: \"https://download.pytorch.org/models/resnet50-19c8e357.pth\" to /root/.cache/torch/checkpoints/resnet50-19c8e357.pth\n"
     ]
    },
    {
     "data": {
      "application/vnd.jupyter.widget-view+json": {
       "model_id": "7e05060de40642308ee64995731305d1",
       "version_major": 2,
       "version_minor": 0
      },
      "text/plain": [
       "HBox(children=(IntProgress(value=0, max=102502400), HTML(value='')))"
      ]
     },
     "metadata": {
      "tags": []
     },
     "output_type": "display_data"
    },
    {
     "name": "stdout",
     "output_type": "stream",
     "text": [
      "\n"
     ]
    }
   ],
   "source": [
    "# Get the original_dataset\n",
    "loader = dataloader.KeyDataLoader()\n",
    "train_loader, valid_loader, test_loader = loader.run()\n",
    "\n",
    "# Hyper Parameter settings\n",
    "random.seed(config.seed)\n",
    "# torch.cuda.set_device(config.gpuid)\n",
    "torch.manual_seed(config.seed)\n",
    "torch.cuda.manual_seed_all(config.seed)\n",
    "use_cuda = torch.cuda.is_available()\n",
    "\n",
    "# Networks setup\n",
    "print('\\nModel setup')\n",
    "print('| Building network: {}'.format(config.model))\n",
    "net = get_model()\n",
    "\n",
    "if use_cuda:\n",
    "  net.cuda()"
   ]
  },
  {
   "cell_type": "code",
   "execution_count": 0,
   "metadata": {
    "colab": {},
    "colab_type": "code",
    "id": "rewIv1dqGyB_"
   },
   "outputs": [],
   "source": [
    "def load_checkpoint(epoch):\n",
    "  checkpoint = torch.load(config.drive_dir + '/checkpoint/' + config.checkpoint + \"_\" + str(epoch) + '.pth.tar')\n",
    "  net.load_state_dict(checkpoint['state_dict'])"
   ]
  },
  {
   "cell_type": "code",
   "execution_count": 0,
   "metadata": {
    "colab": {},
    "colab_type": "code",
    "id": "bZRHtbXGmqnM"
   },
   "outputs": [],
   "source": [
    "def test(loader):\n",
    "    net.eval()\n",
    "    # test_loss = 0\n",
    "    correct = 0\n",
    "    total = 0\n",
    "    for batch_idx, (inputs, targets) in enumerate(loader):\n",
    "        if use_cuda:\n",
    "            inputs, targets = inputs.cuda(), targets.cuda()\n",
    "        with torch.no_grad():\n",
    "            outputs = net(inputs).cuda()\n",
    "\n",
    "        # test_loss += loss.data.item()\n",
    "        _, predicted = torch.max(outputs.data, 1)\n",
    "        total += targets.size(0)\n",
    "        correct += predicted.eq(targets.data).cpu().sum()\n",
    "\n",
    "    # Grab validation results\n",
    "    test_acc = 100. * correct/total\n",
    "\n",
    "    return(round(float(test_acc),2))"
   ]
  },
  {
   "cell_type": "code",
   "execution_count": 0,
   "metadata": {
    "colab": {},
    "colab_type": "code",
    "id": "uqAh5T9qLyaa"
   },
   "outputs": [],
   "source": [
    "def get_accy_list(max_epoch, loader):\n",
    "  max_epoch = 101\n",
    "\n",
    "  accy_list = []\n",
    "  for epoch in range(1,101):\n",
    "    load_checkpoint(epoch)\n",
    "    accy_list.append(test(loader))\n",
    "  return(accy_list)\n",
    "    # print(accy_list)"
   ]
  },
  {
   "cell_type": "code",
   "execution_count": 10,
   "metadata": {
    "colab": {
     "base_uri": "https://localhost:8080/",
     "height": 170
    },
    "colab_type": "code",
    "executionInfo": {
     "elapsed": 19417181,
     "status": "ok",
     "timestamp": 1587670318281,
     "user": {
      "displayName": "Xavier López",
      "photoUrl": "",
      "userId": "17793741074420892205"
     },
     "user_tz": -120
    },
    "id": "f7dfcVkTNfSy",
    "outputId": "83e83e43-a747-4bbc-90f6-f77523857a3f"
   },
   "outputs": [
    {
     "name": "stdout",
     "output_type": "stream",
     "text": [
      "computing test list\n",
      "\n",
      "[83.9, 87.72, 88.38, 88.81, 89.26, 89.27, 89.9, 89.84, 88.98, 89.55, 90.62, 90.41, 90.23, 90.18, 90.98, 90.07, 90.94, 90.23, 90.9, 89.6, 90.41, 89.75, 89.93, 89.72, 89.59, 88.99, 89.42, 89.27, 90.14, 89.24, 89.08, 88.91, 88.02, 88.16, 88.3, 87.41, 87.21, 85.99, 85.86, 84.82, 83.5, 85.77, 85.05, 82.17, 84.05, 82.13, 81.89, 79.9, 77.64, 78.25, 76.33, 76.47, 74.07, 77.46, 73.41, 72.24, 73.27, 70.65, 71.35, 69.69, 67.08, 63.45, 66.11, 65.76, 65.2, 63.04, 62.1, 62.35, 59.76, 56.8, 59.03, 60.04, 60.38, 60.81, 59.46, 54.74, 54.15, 56.55, 59.02, 55.04, 55.12, 54.47, 55.98, 54.39, 55.23, 54.88, 54.22, 56.1, 51.92, 54.11, 54.19, 53.46, 52.1, 55.63, 54.72, 51.98, 53.26, 53.03, 58.39, 51.74]\n",
      "computing val list\n",
      "\n",
      "[84.18, 88.38, 89.42, 89.72, 90.16, 90.08, 90.24, 90.28, 89.28, 90.12, 91.12, 90.62, 90.98, 90.7, 91.3, 90.58, 91.48, 90.68, 91.44, 90.18, 91.22, 90.28, 90.36, 90.42, 90.04, 89.74, 90.46, 89.66, 90.68, 89.74, 89.9, 89.5, 88.68, 88.86, 88.98, 87.76, 87.94, 86.06, 86.48, 86.54, 84.22, 86.32, 86.44, 83.5, 84.88, 83.6, 82.34, 80.52, 78.34, 79.08, 77.02, 77.42, 75.14, 77.68, 73.62, 72.9, 73.84, 71.58, 72.2, 70.32, 67.9, 63.36, 66.54, 67.64, 65.92, 63.3, 62.88, 63.72, 60.08, 58.02, 59.56, 61.74, 61.18, 61.42, 60.92, 55.6, 55.2, 57.46, 60.66, 56.08, 56.98, 56.62, 57.12, 54.98, 57.36, 55.42, 56.12, 57.1, 53.16, 55.16, 55.58, 54.9, 53.62, 56.44, 55.7, 53.88, 54.78, 54.12, 59.58, 52.4]\n",
      "computing train list\n",
      "\n"
     ]
    }
   ],
   "source": [
    "print(\"computing test list\\n\")\n",
    "test_list  = get_accy_list(config.num_epochs, test_loader)\n",
    "print(test_list)\n",
    "print(\"computing val list\\n\")\n",
    "valid_list = get_accy_list(config.num_epochs, valid_loader)\n",
    "print(valid_list)\n",
    "print(\"computing train list\\n\")\n",
    "train_list = get_accy_list(config.num_epochs, train_loader)\n",
    "\n",
    "df = pd.DataFrame()\n",
    "df[\"epoch\"] = range(1,101)\n",
    "df[\"test\"] = test_list\n",
    "df[\"valid\"] = valid_list\n",
    "df[\"train\"] = train_list"
   ]
  },
  {
   "cell_type": "code",
   "execution_count": 13,
   "metadata": {
    "colab": {
     "base_uri": "https://localhost:8080/",
     "height": 404
    },
    "colab_type": "code",
    "executionInfo": {
     "elapsed": 663,
     "status": "ok",
     "timestamp": 1587671128905,
     "user": {
      "displayName": "Xavier López",
      "photoUrl": "",
      "userId": "17793741074420892205"
     },
     "user_tz": -120
    },
    "id": "8tOd_waNsFG6",
    "outputId": "96ae3849-9ec6-4a20-c04a-7bd456027780"
   },
   "outputs": [
    {
     "data": {
      "text/html": [
       "<div>\n",
       "<style scoped>\n",
       "    .dataframe tbody tr th:only-of-type {\n",
       "        vertical-align: middle;\n",
       "    }\n",
       "\n",
       "    .dataframe tbody tr th {\n",
       "        vertical-align: top;\n",
       "    }\n",
       "\n",
       "    .dataframe thead th {\n",
       "        text-align: right;\n",
       "    }\n",
       "</style>\n",
       "<table border=\"1\" class=\"dataframe\">\n",
       "  <thead>\n",
       "    <tr style=\"text-align: right;\">\n",
       "      <th></th>\n",
       "      <th>epoch</th>\n",
       "      <th>test</th>\n",
       "      <th>valid</th>\n",
       "      <th>train</th>\n",
       "    </tr>\n",
       "  </thead>\n",
       "  <tbody>\n",
       "    <tr>\n",
       "      <th>0</th>\n",
       "      <td>1</td>\n",
       "      <td>83.90</td>\n",
       "      <td>84.18</td>\n",
       "      <td>37.92</td>\n",
       "    </tr>\n",
       "    <tr>\n",
       "      <th>1</th>\n",
       "      <td>2</td>\n",
       "      <td>87.72</td>\n",
       "      <td>88.38</td>\n",
       "      <td>40.47</td>\n",
       "    </tr>\n",
       "    <tr>\n",
       "      <th>2</th>\n",
       "      <td>3</td>\n",
       "      <td>88.38</td>\n",
       "      <td>89.42</td>\n",
       "      <td>40.80</td>\n",
       "    </tr>\n",
       "    <tr>\n",
       "      <th>3</th>\n",
       "      <td>4</td>\n",
       "      <td>88.81</td>\n",
       "      <td>89.72</td>\n",
       "      <td>40.99</td>\n",
       "    </tr>\n",
       "    <tr>\n",
       "      <th>4</th>\n",
       "      <td>5</td>\n",
       "      <td>89.26</td>\n",
       "      <td>90.16</td>\n",
       "      <td>41.23</td>\n",
       "    </tr>\n",
       "    <tr>\n",
       "      <th>...</th>\n",
       "      <td>...</td>\n",
       "      <td>...</td>\n",
       "      <td>...</td>\n",
       "      <td>...</td>\n",
       "    </tr>\n",
       "    <tr>\n",
       "      <th>95</th>\n",
       "      <td>96</td>\n",
       "      <td>51.98</td>\n",
       "      <td>53.88</td>\n",
       "      <td>45.78</td>\n",
       "    </tr>\n",
       "    <tr>\n",
       "      <th>96</th>\n",
       "      <td>97</td>\n",
       "      <td>53.26</td>\n",
       "      <td>54.78</td>\n",
       "      <td>45.88</td>\n",
       "    </tr>\n",
       "    <tr>\n",
       "      <th>97</th>\n",
       "      <td>98</td>\n",
       "      <td>53.03</td>\n",
       "      <td>54.12</td>\n",
       "      <td>45.91</td>\n",
       "    </tr>\n",
       "    <tr>\n",
       "      <th>98</th>\n",
       "      <td>99</td>\n",
       "      <td>58.39</td>\n",
       "      <td>59.58</td>\n",
       "      <td>46.48</td>\n",
       "    </tr>\n",
       "    <tr>\n",
       "      <th>99</th>\n",
       "      <td>100</td>\n",
       "      <td>51.74</td>\n",
       "      <td>52.40</td>\n",
       "      <td>46.38</td>\n",
       "    </tr>\n",
       "  </tbody>\n",
       "</table>\n",
       "<p>100 rows × 4 columns</p>\n",
       "</div>"
      ],
      "text/plain": [
       "    epoch   test  valid  train\n",
       "0       1  83.90  84.18  37.92\n",
       "1       2  87.72  88.38  40.47\n",
       "2       3  88.38  89.42  40.80\n",
       "3       4  88.81  89.72  40.99\n",
       "4       5  89.26  90.16  41.23\n",
       "..    ...    ...    ...    ...\n",
       "95     96  51.98  53.88  45.78\n",
       "96     97  53.26  54.78  45.88\n",
       "97     98  53.03  54.12  45.91\n",
       "98     99  58.39  59.58  46.48\n",
       "99    100  51.74  52.40  46.38\n",
       "\n",
       "[100 rows x 4 columns]"
      ]
     },
     "execution_count": 13,
     "metadata": {
      "tags": []
     },
     "output_type": "execute_result"
    }
   ],
   "source": [
    "df = pd.DataFrame()\n",
    "df[\"epoch\"] = range(1,101)\n",
    "df[\"test\"] = test_list\n",
    "df[\"valid\"] = valid_list\n",
    "df[\"train\"] = train_list\n",
    "\n",
    "df"
   ]
  },
  {
   "cell_type": "code",
   "execution_count": 0,
   "metadata": {
    "colab": {},
    "colab_type": "code",
    "id": "rM19-SiOPsou"
   },
   "outputs": [],
   "source": [
    "clean_kv = config.drive_dir +\"/learning_curves/\"+ config.checkpoint+\".csv\"\n",
    "# clean_kv = \"/content/drive/My Drive/Colab_Notebooks/pfm/data/asdf.txt\"\n",
    "df.to_csv(clean_kv, sep=';', index=False,header = True)"
   ]
  },
  {
   "cell_type": "markdown",
   "metadata": {
    "colab_type": "text",
    "id": "oyyFzY5r6yTV"
   },
   "source": []
  }
 ],
 "metadata": {
  "accelerator": "GPU",
  "colab": {
   "collapsed_sections": [],
   "machine_shape": "hm",
   "name": "plot_accys.ipynb",
   "provenance": []
  },
  "kernelspec": {
   "display_name": "Python 3",
   "language": "python",
   "name": "python3"
  },
  "language_info": {
   "codemirror_mode": {
    "name": "ipython",
    "version": 3
   },
   "file_extension": ".py",
   "mimetype": "text/x-python",
   "name": "python",
   "nbconvert_exporter": "python",
   "pygments_lexer": "ipython3",
   "version": "3.7.6"
  },
  "widgets": {
   "application/vnd.jupyter.widget-state+json": {
    "032afcf64ba74ecf8409b7fae7671ae2": {
     "model_module": "@jupyter-widgets/base",
     "model_name": "LayoutModel",
     "state": {
      "_model_module": "@jupyter-widgets/base",
      "_model_module_version": "1.2.0",
      "_model_name": "LayoutModel",
      "_view_count": null,
      "_view_module": "@jupyter-widgets/base",
      "_view_module_version": "1.2.0",
      "_view_name": "LayoutView",
      "align_content": null,
      "align_items": null,
      "align_self": null,
      "border": null,
      "bottom": null,
      "display": null,
      "flex": null,
      "flex_flow": null,
      "grid_area": null,
      "grid_auto_columns": null,
      "grid_auto_flow": null,
      "grid_auto_rows": null,
      "grid_column": null,
      "grid_gap": null,
      "grid_row": null,
      "grid_template_areas": null,
      "grid_template_columns": null,
      "grid_template_rows": null,
      "height": null,
      "justify_content": null,
      "justify_items": null,
      "left": null,
      "margin": null,
      "max_height": null,
      "max_width": null,
      "min_height": null,
      "min_width": null,
      "object_fit": null,
      "object_position": null,
      "order": null,
      "overflow": null,
      "overflow_x": null,
      "overflow_y": null,
      "padding": null,
      "right": null,
      "top": null,
      "visibility": null,
      "width": null
     }
    },
    "24c3af5ca64c4cabb8222f55e433e89e": {
     "model_module": "@jupyter-widgets/controls",
     "model_name": "DescriptionStyleModel",
     "state": {
      "_model_module": "@jupyter-widgets/controls",
      "_model_module_version": "1.5.0",
      "_model_name": "DescriptionStyleModel",
      "_view_count": null,
      "_view_module": "@jupyter-widgets/base",
      "_view_module_version": "1.2.0",
      "_view_name": "StyleView",
      "description_width": ""
     }
    },
    "341966de44544d37b561080274fdf326": {
     "model_module": "@jupyter-widgets/controls",
     "model_name": "ProgressStyleModel",
     "state": {
      "_model_module": "@jupyter-widgets/controls",
      "_model_module_version": "1.5.0",
      "_model_name": "ProgressStyleModel",
      "_view_count": null,
      "_view_module": "@jupyter-widgets/base",
      "_view_module_version": "1.2.0",
      "_view_name": "StyleView",
      "bar_color": null,
      "description_width": "initial"
     }
    },
    "4c1ae15195894b6e9be780e8082f414c": {
     "model_module": "@jupyter-widgets/base",
     "model_name": "LayoutModel",
     "state": {
      "_model_module": "@jupyter-widgets/base",
      "_model_module_version": "1.2.0",
      "_model_name": "LayoutModel",
      "_view_count": null,
      "_view_module": "@jupyter-widgets/base",
      "_view_module_version": "1.2.0",
      "_view_name": "LayoutView",
      "align_content": null,
      "align_items": null,
      "align_self": null,
      "border": null,
      "bottom": null,
      "display": null,
      "flex": null,
      "flex_flow": null,
      "grid_area": null,
      "grid_auto_columns": null,
      "grid_auto_flow": null,
      "grid_auto_rows": null,
      "grid_column": null,
      "grid_gap": null,
      "grid_row": null,
      "grid_template_areas": null,
      "grid_template_columns": null,
      "grid_template_rows": null,
      "height": null,
      "justify_content": null,
      "justify_items": null,
      "left": null,
      "margin": null,
      "max_height": null,
      "max_width": null,
      "min_height": null,
      "min_width": null,
      "object_fit": null,
      "object_position": null,
      "order": null,
      "overflow": null,
      "overflow_x": null,
      "overflow_y": null,
      "padding": null,
      "right": null,
      "top": null,
      "visibility": null,
      "width": null
     }
    },
    "5b88c7acd8ac446486f115f5d9327fd2": {
     "model_module": "@jupyter-widgets/controls",
     "model_name": "IntProgressModel",
     "state": {
      "_dom_classes": [],
      "_model_module": "@jupyter-widgets/controls",
      "_model_module_version": "1.5.0",
      "_model_name": "IntProgressModel",
      "_view_count": null,
      "_view_module": "@jupyter-widgets/controls",
      "_view_module_version": "1.5.0",
      "_view_name": "ProgressView",
      "bar_style": "success",
      "description": "100%",
      "description_tooltip": null,
      "layout": "IPY_MODEL_4c1ae15195894b6e9be780e8082f414c",
      "max": 102502400,
      "min": 0,
      "orientation": "horizontal",
      "style": "IPY_MODEL_341966de44544d37b561080274fdf326",
      "value": 102502400
     }
    },
    "7e05060de40642308ee64995731305d1": {
     "model_module": "@jupyter-widgets/controls",
     "model_name": "HBoxModel",
     "state": {
      "_dom_classes": [],
      "_model_module": "@jupyter-widgets/controls",
      "_model_module_version": "1.5.0",
      "_model_name": "HBoxModel",
      "_view_count": null,
      "_view_module": "@jupyter-widgets/controls",
      "_view_module_version": "1.5.0",
      "_view_name": "HBoxView",
      "box_style": "",
      "children": [
       "IPY_MODEL_5b88c7acd8ac446486f115f5d9327fd2",
       "IPY_MODEL_924ecda6aa0940309929f412f95385ce"
      ],
      "layout": "IPY_MODEL_032afcf64ba74ecf8409b7fae7671ae2"
     }
    },
    "910b4ec7f5cc47caa5d45988098440d5": {
     "model_module": "@jupyter-widgets/base",
     "model_name": "LayoutModel",
     "state": {
      "_model_module": "@jupyter-widgets/base",
      "_model_module_version": "1.2.0",
      "_model_name": "LayoutModel",
      "_view_count": null,
      "_view_module": "@jupyter-widgets/base",
      "_view_module_version": "1.2.0",
      "_view_name": "LayoutView",
      "align_content": null,
      "align_items": null,
      "align_self": null,
      "border": null,
      "bottom": null,
      "display": null,
      "flex": null,
      "flex_flow": null,
      "grid_area": null,
      "grid_auto_columns": null,
      "grid_auto_flow": null,
      "grid_auto_rows": null,
      "grid_column": null,
      "grid_gap": null,
      "grid_row": null,
      "grid_template_areas": null,
      "grid_template_columns": null,
      "grid_template_rows": null,
      "height": null,
      "justify_content": null,
      "justify_items": null,
      "left": null,
      "margin": null,
      "max_height": null,
      "max_width": null,
      "min_height": null,
      "min_width": null,
      "object_fit": null,
      "object_position": null,
      "order": null,
      "overflow": null,
      "overflow_x": null,
      "overflow_y": null,
      "padding": null,
      "right": null,
      "top": null,
      "visibility": null,
      "width": null
     }
    },
    "924ecda6aa0940309929f412f95385ce": {
     "model_module": "@jupyter-widgets/controls",
     "model_name": "HTMLModel",
     "state": {
      "_dom_classes": [],
      "_model_module": "@jupyter-widgets/controls",
      "_model_module_version": "1.5.0",
      "_model_name": "HTMLModel",
      "_view_count": null,
      "_view_module": "@jupyter-widgets/controls",
      "_view_module_version": "1.5.0",
      "_view_name": "HTMLView",
      "description": "",
      "description_tooltip": null,
      "layout": "IPY_MODEL_910b4ec7f5cc47caa5d45988098440d5",
      "placeholder": "​",
      "style": "IPY_MODEL_24c3af5ca64c4cabb8222f55e433e89e",
      "value": " 97.8M/97.8M [00:28&lt;00:00, 3.65MB/s]"
     }
    }
   }
  }
 },
 "nbformat": 4,
 "nbformat_minor": 1
}
